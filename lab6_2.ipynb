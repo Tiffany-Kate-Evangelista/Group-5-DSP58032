{
 "cells": [
  {
   "cell_type": "code",
   "execution_count": 1,
   "id": "5d7a3035-56f7-4a25-a5b8-4d70c5548e57",
   "metadata": {},
   "outputs": [],
   "source": [
    "import numpy as np\n",
    "import matplotlib.pyplot as plt"
   ]
  },
  {
   "cell_type": "code",
   "execution_count": 3,
   "id": "87c6a6d7-d324-4d40-8f3b-105ee585a73d",
   "metadata": {},
   "outputs": [
    {
     "ename": "SyntaxError",
     "evalue": "cannot assign to function call here. Maybe you meant '==' instead of '='? (4272718634.py, line 38)",
     "output_type": "error",
     "traceback": [
      "\u001b[1;36m  Cell \u001b[1;32mIn[3], line 38\u001b[1;36m\u001b[0m\n\u001b[1;33m    plt.show() = np.linspace(0, 99, 100)\u001b[0m\n\u001b[1;37m    ^\u001b[0m\n\u001b[1;31mSyntaxError\u001b[0m\u001b[1;31m:\u001b[0m cannot assign to function call here. Maybe you meant '==' instead of '='?\n"
     ]
    }
   ],
   "source": [
    "n = np.linspace(0, 99, 100)  \n",
    "x_n = np.sin(0.2 * np.pi * n)  #Input Signal\n",
    "y_n = x_n ** 2  # Output signal\n",
    "\n",
    "# 3. Use a scatter plot to visualize the input signal and a bar plot to visualize the output signal\n",
    "plt.figure(figsize=(12, 6))\n",
    "\n",
    "# Scatter plot for input signal x[n]\n",
    "plt.subplot(2, 1, 1)\n",
    "plt.scatter(n, x_n, label='Input: x[n]', color='blue',)\n",
    "plt.title('Input Signal: x[n] = sin(0.2 * π * n)')\n",
    "plt.xlabel('Sample number (n)')\n",
    "plt.ylabel('Amplitude')\n",
    "plt.grid()\n",
    "plt.legend()\n",
    "\n",
    "# Bar plot for output signal y[n]\n",
    "plt.subplot(2, 1, 2)\n",
    "plt.bar(n, y_n, label='Output: y[n]', color='red')\n",
    "plt.title('Output Signal: y[n] = x[n]^2')\n",
    "plt.xlabel('Sample number (n)')\n",
    "plt.ylabel('Amplitude')\n",
    "plt.grid()\n",
    "plt.legend()\n",
    "\n",
    "plt.tight_layout()\n",
    "plt.show()\n",
    "\n",
    "# 4. Plot both input and output signals in a single plot using normal plot\n",
    "plt.figure(figsize=(10, 6))\n",
    "plt.plot(n, x_n, label='Input: x[n]', color='blue')\n",
    "plt.plot(n, y_n, label='Output: y[n]', color='red')\n",
    "plt.title('Input and Output Signals')\n",
    "plt.xlabel('Sample number (n)')\n",
    "plt.ylabel('Amplitude')\n",
    "plt.grid()\n",
    "plt.legend()\n",
    "plt.show() = np.linspace(0, 99, 100)  \n",
    "x_n = np.sin(0.2 * np.pi * n)  #Input Signal\n",
    "y_n = x_n ** 2  # Output signal\n",
    "\n",
    "# 3. Use a scatter plot to visualize the input signal and a bar plot to visualize the output signal\n",
    "plt.figure(figsize=(12, 6))\n",
    "\n",
    "# Scatter plot for input signal x[n]\n",
    "plt.subplot(2, 1, 1)\n",
    "plt.scatter(n, x_n, label='Input: x[n]', color='blue',)\n",
    "plt.title('Input Signal: x[n] = sin(0.2 * π * n)')\n",
    "plt.xlabel('Sample number (n)')\n",
    "plt.ylabel('Amplitude')\n",
    "plt.grid()\n",
    "plt.legend()\n",
    "\n",
    "# Bar plot for output signal y[n]\n",
    "plt.subplot(2, 1, 2)\n",
    "plt.bar(n, y_n, label='Output: y[n]', color='red')\n",
    "plt.title('Output Signal: y[n] = x[n]^2')\n",
    "plt.xlabel('Sample number (n)')\n",
    "plt.ylabel('Amplitude')\n",
    "plt.grid()\n",
    "plt.legend()\n",
    "\n",
    "plt.tight_layout()\n",
    "plt.show()\n",
    "\n",
    "# 4. Plot both input and output signals in a single plot using normal plot\n",
    "plt.figure(figsize=(10, 6))\n",
    "plt.plot(n, x_n, label='Input: x[n]', color='blue')\n",
    "plt.plot(n, y_n, label='Output: y[n]', color='red')\n",
    "plt.title('Input and Output Signals')\n",
    "plt.xlabel('Sample number (n)')\n",
    "plt.ylabel('Amplitude')\n",
    "plt.grid()\n",
    "plt.legend()\n",
    "plt.show()"
   ]
  },
  {
   "cell_type": "code",
   "execution_count": null,
   "id": "622358fa-e355-42ce-9a22-d97e2207d57f",
   "metadata": {},
   "outputs": [],
   "source": []
  }
 ],
 "metadata": {
  "kernelspec": {
   "display_name": "Python 3 (ipykernel)",
   "language": "python",
   "name": "python3"
  },
  "language_info": {
   "codemirror_mode": {
    "name": "ipython",
    "version": 3
   },
   "file_extension": ".py",
   "mimetype": "text/x-python",
   "name": "python",
   "nbconvert_exporter": "python",
   "pygments_lexer": "ipython3",
   "version": "3.12.5"
  }
 },
 "nbformat": 4,
 "nbformat_minor": 5
}
