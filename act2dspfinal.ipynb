{
 "cells": [
  {
   "cell_type": "code",
   "execution_count": 1,
   "id": "d6dd2ff5-78c5-459e-8503-58a38e6336d3",
   "metadata": {},
   "outputs": [],
   "source": [
    "import numpy as np\n",
    "import matplotlib"
   ]
  },
  {
   "cell_type": "code",
   "execution_count": 3,
   "id": "dabc7568-85fa-4c05-9f3b-0715ad9a0096",
   "metadata": {},
   "outputs": [
    {
     "name": "stdout",
     "output_type": "stream",
     "text": [
      "The values are:\n",
      "x = 3.4433962264150946\n",
      "y = 4.698113207547171\n",
      "z = 1.6226415094339626\n",
      "w = 0.23584905660377356\n"
     ]
    }
   ],
   "source": [
    "#Number 1\n",
    "\n",
    "#matrix A\n",
    "A = np.array([[1, 1, 1, 1],\n",
    "              [2, -1, 3, 4],\n",
    "              [-3, 2, -2, 5],\n",
    "              [1, -1, 4, -1]])\n",
    "\n",
    "#matrix B\n",
    "B = np.array([10, 8, -3, 5])\n",
    "\n",
    "# Solve the system of linear equations\n",
    "X = np.linalg.solve(A, B)\n",
    "\n",
    "#result\n",
    "print(\"The values are:\")\n",
    "print(\"x =\", X[0])\n",
    "print(\"y =\", X[1])\n",
    "print(\"z =\", X[2])\n",
    "print(\"w =\", X[3])"
   ]
  },
  {
   "cell_type": "code",
   "execution_count": 7,
   "id": "ab8a1cfc-901e-415d-b6ed-98ff8be873ca",
   "metadata": {},
   "outputs": [
    {
     "name": "stdout",
     "output_type": "stream",
     "text": [
      "I1 = 0.0097\n",
      "I2 = -0.0042\n",
      "I3 = 0.0139\n"
     ]
    }
   ],
   "source": [
    "#Number 2\n",
    "\n",
    "A = np.array([[2100, 1500], [-600, 900]])\n",
    "B = np.array([12, 15])\n",
    "\n",
    "Solution = np.linalg.solve(A, B)\n",
    "I1 = I2 + I3\n",
    "\n",
    "print(f\"I1 = {I1:.4f}\")\n",
    "print(f\"I2 = {I2:.4f}\")\n",
    "print(f\"I3 = {I3:.4f}\")"
   ]
  },
  {
   "cell_type": "code",
   "execution_count": 6,
   "id": "595ccc21-4249-4320-bba4-1b58eb0d8c57",
   "metadata": {},
   "outputs": [
    {
     "data": {
      "text/plain": [
       "array([[-0.375, -0.125,  0.625],\n",
       "       [-0.125,  0.625, -0.125],\n",
       "       [ 0.625, -0.125, -0.375]])"
      ]
     },
     "execution_count": 6,
     "metadata": {},
     "output_type": "execute_result"
    }
   ],
   "source": [
    "#Number 3\n",
    "\n",
    "A = np.array ([[2, 1, 3], [1, 2, 1], [3, 1, 2]])\n",
    "A = np.linalg.inv(A)\n",
    "A"
   ]
  },
  {
   "cell_type": "code",
   "execution_count": null,
   "id": "43c43637-f70c-4afd-be9f-03d5cba25444",
   "metadata": {},
   "outputs": [],
   "source": []
  }
 ],
 "metadata": {
  "kernelspec": {
   "display_name": "Python 3 (ipykernel)",
   "language": "python",
   "name": "python3"
  },
  "language_info": {
   "codemirror_mode": {
    "name": "ipython",
    "version": 3
   },
   "file_extension": ".py",
   "mimetype": "text/x-python",
   "name": "python",
   "nbconvert_exporter": "python",
   "pygments_lexer": "ipython3",
   "version": "3.12.4"
  }
 },
 "nbformat": 4,
 "nbformat_minor": 5
}
